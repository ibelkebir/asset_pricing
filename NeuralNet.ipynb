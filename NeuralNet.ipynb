{
  "nbformat": 4,
  "nbformat_minor": 0,
  "metadata": {
    "colab": {
      "name": "NeuralNet.ipynb",
      "provenance": [],
      "collapsed_sections": []
    },
    "kernelspec": {
      "name": "python3",
      "display_name": "Python 3"
    },
    "language_info": {
      "name": "python"
    },
    "accelerator": "TPU"
  },
  "cells": [
    {
      "cell_type": "code",
      "metadata": {
        "id": "D6QhdHirv4co",
        "colab": {
          "base_uri": "https://localhost:8080/"
        },
        "outputId": "33a3a03a-b8d5-4785-a469-0bd90ffa0a87"
      },
      "source": [
        "from google.colab import drive \n",
        "drive.mount('/content/drive')"
      ],
      "execution_count": 1,
      "outputs": [
        {
          "output_type": "stream",
          "name": "stdout",
          "text": [
            "Drive already mounted at /content/drive; to attempt to forcibly remount, call drive.mount(\"/content/drive\", force_remount=True).\n"
          ]
        }
      ]
    },
    {
      "cell_type": "code",
      "metadata": {
        "id": "JFjWHjrWyd4w"
      },
      "source": [
        "import numpy as np\n",
        "import pandas as pd\n",
        "from matplotlib import pyplot as plt\n",
        "import tensorflow as tf\n",
        "import torch\n",
        "import torch.nn as nn\n",
        "import torch.optim as optim"
      ],
      "execution_count": 2,
      "outputs": []
    },
    {
      "cell_type": "code",
      "metadata": {
        "id": "WbkBR7nnzTFq"
      },
      "source": [
        "class FeedforwardNeuralNetModel(nn.Module):\n",
        "  def __init__(self):\n",
        "    super(FeedforwardNeuralNetModel, self).__init__()\n",
        "\n",
        "    self.fc1 = nn.Linear(76, 32)\n",
        "    self.relu1 = nn.ReLU()\n",
        "    self.bn1 = nn.BatchNorm1d(32)\n",
        "\n",
        "    self.fc2 = nn.Linear(32, 16)\n",
        "    self.relu2 = nn.ReLU()\n",
        "    self.bn2 = nn.BatchNorm1d(16)\n",
        "\n",
        "    self.fc3 = nn.Linear(16, 8)\n",
        "    self.relu3 = nn.ReLU()\n",
        "    self.bn3 = nn.BatchNorm1d(8)\n",
        "\n",
        "    self.fc4 = nn.Linear(8, 1)  \n",
        "\n",
        "  def forward(self, x):\n",
        "    out = self.fc1(x)\n",
        "    out = self.bn1(out)\n",
        "    out = self.relu1(out)\n",
        "\n",
        "    out = self.fc2(out)\n",
        "    out = self.relu2(out)\n",
        "    out = self.bn2(out)\n",
        "\n",
        "    out = self.fc3(out)\n",
        "    out = self.relu3(out)\n",
        "    out = self.bn3(out)\n",
        "    \n",
        "    out = self.fc4(out)\n",
        "    return out"
      ],
      "execution_count": 3,
      "outputs": []
    },
    {
      "cell_type": "code",
      "metadata": {
        "id": "_C8ZryGv7Vp_",
        "colab": {
          "base_uri": "https://localhost:8080/"
        },
        "outputId": "fa7815e0-f9ae-444b-cc6e-02056637d591"
      },
      "source": [
        "X = pd.read_csv('drive/MyDrive/asset_pricing_data/full_predictor_set_bfill.csv', index_col=0)"
      ],
      "execution_count": 4,
      "outputs": [
        {
          "output_type": "stream",
          "name": "stderr",
          "text": [
            "/usr/local/lib/python3.7/dist-packages/numpy/lib/arraysetops.py:580: FutureWarning: elementwise comparison failed; returning scalar instead, but in the future will perform elementwise comparison\n",
            "  mask |= (ar1 == a)\n"
          ]
        }
      ]
    },
    {
      "cell_type": "code",
      "metadata": {
        "colab": {
          "base_uri": "https://localhost:8080/"
        },
        "id": "jjJIXk6_82M4",
        "outputId": "6cf4dce1-bd70-43d5-d615-de02218ed5eb"
      },
      "source": [
        "X.shape"
      ],
      "execution_count": 5,
      "outputs": [
        {
          "output_type": "execute_result",
          "data": {
            "text/plain": [
              "(2187349, 78)"
            ]
          },
          "metadata": {},
          "execution_count": 5
        }
      ]
    },
    {
      "cell_type": "code",
      "metadata": {
        "id": "32KnX6X79mcb",
        "colab": {
          "base_uri": "https://localhost:8080/"
        },
        "outputId": "1dd0f0de-5bc8-4bd3-8855-5936bd612ff6"
      },
      "source": [
        "y = pd.read_csv('drive/MyDrive/asset_pricing_data/returns.csv', index_col=0)\n",
        "y[\"return\"] = y[\"return\"].where(y[\"return\"] <= 0.2, 0.2)\n",
        "y[\"return\"] = y[\"return\"].where(y[\"return\"] >= -0.2, -0.2)"
      ],
      "execution_count": 5,
      "outputs": [
        {
          "output_type": "stream",
          "name": "stderr",
          "text": [
            "/usr/local/lib/python3.7/dist-packages/numpy/lib/arraysetops.py:580: FutureWarning: elementwise comparison failed; returning scalar instead, but in the future will perform elementwise comparison\n",
            "  mask |= (ar1 == a)\n"
          ]
        }
      ]
    },
    {
      "cell_type": "code",
      "metadata": {
        "colab": {
          "base_uri": "https://localhost:8080/"
        },
        "id": "KOL_lF6R9sG4",
        "outputId": "757d4b80-2399-4287-d69c-473525b4f7be"
      },
      "source": [
        "y.shape"
      ],
      "execution_count": 7,
      "outputs": [
        {
          "output_type": "execute_result",
          "data": {
            "text/plain": [
              "(2187349, 3)"
            ]
          },
          "metadata": {},
          "execution_count": 7
        }
      ]
    },
    {
      "cell_type": "code",
      "metadata": {
        "id": "3GhahRhgDsTc"
      },
      "source": [
        "df1_train = X[(X[\"level_1\"] >= 198000) & (X[\"level_1\"] < 201400)].iloc[:,2:]\n",
        "df1_val = X[(X[\"level_1\"] >= 201400) & (X[\"level_1\"] < 201700)].iloc[:,2:]\n",
        "df1_test = X[X[\"level_1\"] >= 201700].iloc[:,2:]\n",
        "df2_train = y[(y[\"level_1\"] >= 198000) & (y[\"level_1\"] < 201400)].iloc[:,2]\n",
        "df2_val = y[(y[\"level_1\"] >= 201400) & (y[\"level_1\"] < 201700)].iloc[:,2]\n",
        "df2_test = y[y[\"level_1\"] >= 201700].iloc[:,2]\n",
        "\n",
        "tx_train = torch.tensor(df1_train.values.astype(np.float32))\n",
        "tx_val = torch.tensor(df1_val.values.astype(np.float32))\n",
        "tx_test = torch.tensor(df1_test.values.astype(np.float32))\n",
        "ty_train = torch.tensor(df2_train.values.astype(np.float32))\n",
        "ty_val = torch.tensor(df2_val.values.astype(np.float32))\n",
        "ty_test = torch.tensor(df2_test.values.astype(np.float32))\n",
        "\n",
        "train_set = torch.utils.data.TensorDataset(tx_train, ty_train)\n",
        "val_set = torch.utils.data.TensorDataset(tx_val, ty_val)\n",
        "test_set = torch.utils.data.TensorDataset(tx_test, ty_test)\n",
        "train_loader = torch.utils.data.DataLoader(dataset = train_set, batch_size = 64, shuffle = True)\n",
        "val_loader = torch.utils.data.DataLoader(dataset = val_set, batch_size = 32, shuffle = False)\n",
        "test_loader = torch.utils.data.DataLoader(dataset = test_set, batch_size = 32, shuffle = False)"
      ],
      "execution_count": 45,
      "outputs": []
    },
    {
      "cell_type": "code",
      "metadata": {
        "colab": {
          "base_uri": "https://localhost:8080/"
        },
        "id": "21kxRyHiAH_A",
        "outputId": "d0db11aa-e02b-4786-ee2c-b33ba605557c"
      },
      "source": [
        "try:\n",
        "  tpu = tf.distribute.cluster_resolver.TPUClusterResolver()  # TPU detection\n",
        "  print('Running on TPU ', tpu.cluster_spec().as_dict()['worker'])\n",
        "except ValueError:\n",
        "  raise BaseException('ERROR: Not connected to a TPU runtime; please see the previous cell in this notebook for instructions!')\n",
        "\n",
        "tf.config.experimental_connect_to_cluster(tpu)\n",
        "tf.tpu.experimental.initialize_tpu_system(tpu)\n",
        "tpu_strategy = tf.distribute.experimental.TPUStrategy(tpu)"
      ],
      "execution_count": 7,
      "outputs": [
        {
          "output_type": "stream",
          "name": "stdout",
          "text": [
            "Running on TPU  ['10.90.145.138:8470']\n",
            "INFO:tensorflow:Deallocate tpu buffers before initializing tpu system.\n"
          ]
        },
        {
          "output_type": "stream",
          "name": "stderr",
          "text": [
            "INFO:tensorflow:Deallocate tpu buffers before initializing tpu system.\n"
          ]
        },
        {
          "output_type": "stream",
          "name": "stdout",
          "text": [
            "INFO:tensorflow:Initializing the TPU system: grpc://10.90.145.138:8470\n"
          ]
        },
        {
          "output_type": "stream",
          "name": "stderr",
          "text": [
            "INFO:tensorflow:Initializing the TPU system: grpc://10.90.145.138:8470\n"
          ]
        },
        {
          "output_type": "stream",
          "name": "stdout",
          "text": [
            "INFO:tensorflow:Finished initializing TPU system.\n"
          ]
        },
        {
          "output_type": "stream",
          "name": "stderr",
          "text": [
            "INFO:tensorflow:Finished initializing TPU system.\n",
            "WARNING:absl:`tf.distribute.experimental.TPUStrategy` is deprecated, please use  the non experimental symbol `tf.distribute.TPUStrategy` instead.\n"
          ]
        },
        {
          "output_type": "stream",
          "name": "stdout",
          "text": [
            "INFO:tensorflow:Found TPU system:\n"
          ]
        },
        {
          "output_type": "stream",
          "name": "stderr",
          "text": [
            "INFO:tensorflow:Found TPU system:\n"
          ]
        },
        {
          "output_type": "stream",
          "name": "stdout",
          "text": [
            "INFO:tensorflow:*** Num TPU Cores: 8\n"
          ]
        },
        {
          "output_type": "stream",
          "name": "stderr",
          "text": [
            "INFO:tensorflow:*** Num TPU Cores: 8\n"
          ]
        },
        {
          "output_type": "stream",
          "name": "stdout",
          "text": [
            "INFO:tensorflow:*** Num TPU Workers: 1\n"
          ]
        },
        {
          "output_type": "stream",
          "name": "stderr",
          "text": [
            "INFO:tensorflow:*** Num TPU Workers: 1\n"
          ]
        },
        {
          "output_type": "stream",
          "name": "stdout",
          "text": [
            "INFO:tensorflow:*** Num TPU Cores Per Worker: 8\n"
          ]
        },
        {
          "output_type": "stream",
          "name": "stderr",
          "text": [
            "INFO:tensorflow:*** Num TPU Cores Per Worker: 8\n"
          ]
        },
        {
          "output_type": "stream",
          "name": "stdout",
          "text": [
            "INFO:tensorflow:*** Available Device: _DeviceAttributes(/job:localhost/replica:0/task:0/device:CPU:0, CPU, 0, 0)\n"
          ]
        },
        {
          "output_type": "stream",
          "name": "stderr",
          "text": [
            "INFO:tensorflow:*** Available Device: _DeviceAttributes(/job:localhost/replica:0/task:0/device:CPU:0, CPU, 0, 0)\n"
          ]
        },
        {
          "output_type": "stream",
          "name": "stdout",
          "text": [
            "INFO:tensorflow:*** Available Device: _DeviceAttributes(/job:worker/replica:0/task:0/device:CPU:0, CPU, 0, 0)\n"
          ]
        },
        {
          "output_type": "stream",
          "name": "stderr",
          "text": [
            "INFO:tensorflow:*** Available Device: _DeviceAttributes(/job:worker/replica:0/task:0/device:CPU:0, CPU, 0, 0)\n"
          ]
        },
        {
          "output_type": "stream",
          "name": "stdout",
          "text": [
            "INFO:tensorflow:*** Available Device: _DeviceAttributes(/job:worker/replica:0/task:0/device:TPU:0, TPU, 0, 0)\n"
          ]
        },
        {
          "output_type": "stream",
          "name": "stderr",
          "text": [
            "INFO:tensorflow:*** Available Device: _DeviceAttributes(/job:worker/replica:0/task:0/device:TPU:0, TPU, 0, 0)\n"
          ]
        },
        {
          "output_type": "stream",
          "name": "stdout",
          "text": [
            "INFO:tensorflow:*** Available Device: _DeviceAttributes(/job:worker/replica:0/task:0/device:TPU:1, TPU, 0, 0)\n"
          ]
        },
        {
          "output_type": "stream",
          "name": "stderr",
          "text": [
            "INFO:tensorflow:*** Available Device: _DeviceAttributes(/job:worker/replica:0/task:0/device:TPU:1, TPU, 0, 0)\n"
          ]
        },
        {
          "output_type": "stream",
          "name": "stdout",
          "text": [
            "INFO:tensorflow:*** Available Device: _DeviceAttributes(/job:worker/replica:0/task:0/device:TPU:2, TPU, 0, 0)\n"
          ]
        },
        {
          "output_type": "stream",
          "name": "stderr",
          "text": [
            "INFO:tensorflow:*** Available Device: _DeviceAttributes(/job:worker/replica:0/task:0/device:TPU:2, TPU, 0, 0)\n"
          ]
        },
        {
          "output_type": "stream",
          "name": "stdout",
          "text": [
            "INFO:tensorflow:*** Available Device: _DeviceAttributes(/job:worker/replica:0/task:0/device:TPU:3, TPU, 0, 0)\n"
          ]
        },
        {
          "output_type": "stream",
          "name": "stderr",
          "text": [
            "INFO:tensorflow:*** Available Device: _DeviceAttributes(/job:worker/replica:0/task:0/device:TPU:3, TPU, 0, 0)\n"
          ]
        },
        {
          "output_type": "stream",
          "name": "stdout",
          "text": [
            "INFO:tensorflow:*** Available Device: _DeviceAttributes(/job:worker/replica:0/task:0/device:TPU:4, TPU, 0, 0)\n"
          ]
        },
        {
          "output_type": "stream",
          "name": "stderr",
          "text": [
            "INFO:tensorflow:*** Available Device: _DeviceAttributes(/job:worker/replica:0/task:0/device:TPU:4, TPU, 0, 0)\n"
          ]
        },
        {
          "output_type": "stream",
          "name": "stdout",
          "text": [
            "INFO:tensorflow:*** Available Device: _DeviceAttributes(/job:worker/replica:0/task:0/device:TPU:5, TPU, 0, 0)\n"
          ]
        },
        {
          "output_type": "stream",
          "name": "stderr",
          "text": [
            "INFO:tensorflow:*** Available Device: _DeviceAttributes(/job:worker/replica:0/task:0/device:TPU:5, TPU, 0, 0)\n"
          ]
        },
        {
          "output_type": "stream",
          "name": "stdout",
          "text": [
            "INFO:tensorflow:*** Available Device: _DeviceAttributes(/job:worker/replica:0/task:0/device:TPU:6, TPU, 0, 0)\n"
          ]
        },
        {
          "output_type": "stream",
          "name": "stderr",
          "text": [
            "INFO:tensorflow:*** Available Device: _DeviceAttributes(/job:worker/replica:0/task:0/device:TPU:6, TPU, 0, 0)\n"
          ]
        },
        {
          "output_type": "stream",
          "name": "stdout",
          "text": [
            "INFO:tensorflow:*** Available Device: _DeviceAttributes(/job:worker/replica:0/task:0/device:TPU:7, TPU, 0, 0)\n"
          ]
        },
        {
          "output_type": "stream",
          "name": "stderr",
          "text": [
            "INFO:tensorflow:*** Available Device: _DeviceAttributes(/job:worker/replica:0/task:0/device:TPU:7, TPU, 0, 0)\n"
          ]
        },
        {
          "output_type": "stream",
          "name": "stdout",
          "text": [
            "INFO:tensorflow:*** Available Device: _DeviceAttributes(/job:worker/replica:0/task:0/device:TPU_SYSTEM:0, TPU_SYSTEM, 0, 0)\n"
          ]
        },
        {
          "output_type": "stream",
          "name": "stderr",
          "text": [
            "INFO:tensorflow:*** Available Device: _DeviceAttributes(/job:worker/replica:0/task:0/device:TPU_SYSTEM:0, TPU_SYSTEM, 0, 0)\n"
          ]
        },
        {
          "output_type": "stream",
          "name": "stdout",
          "text": [
            "INFO:tensorflow:*** Available Device: _DeviceAttributes(/job:worker/replica:0/task:0/device:XLA_CPU:0, XLA_CPU, 0, 0)\n"
          ]
        },
        {
          "output_type": "stream",
          "name": "stderr",
          "text": [
            "INFO:tensorflow:*** Available Device: _DeviceAttributes(/job:worker/replica:0/task:0/device:XLA_CPU:0, XLA_CPU, 0, 0)\n"
          ]
        }
      ]
    },
    {
      "cell_type": "code",
      "metadata": {
        "id": "Ng3LC0vZA4_E"
      },
      "source": [
        "with tpu_strategy.scope():\n",
        "  model = FeedforwardNeuralNetModel()\n",
        "  criterion = nn.MSELoss()\n",
        "  optimizer = torch.optim.Adam(model.parameters(), lr=0.001)\n",
        "  #scheduler = torch.optim.lr_scheduler.ReduceLROnPlateau(optimizer, patience=5)"
      ],
      "execution_count": 47,
      "outputs": []
    },
    {
      "cell_type": "code",
      "metadata": {
        "id": "_8oSIEVpHaai",
        "colab": {
          "base_uri": "https://localhost:8080/"
        },
        "outputId": "a5811e48-cdb0-48f3-987f-edb86f07efe0"
      },
      "source": [
        "j = 0\n",
        "epsilon = np.inf\n",
        "params = None\n",
        "val_MSEs = []\n",
        "for epoch in range(100):\n",
        "\n",
        "  model.train()\n",
        "  if j <= 5:\n",
        "    for i,(pred, ret) in enumerate(train_loader):\n",
        "      optimizer.zero_grad()\n",
        "\n",
        "      # pred = pred.to(device)\n",
        "      # ret = ret.to(device)\n",
        "\n",
        "      outputs = model(pred)\n",
        "\n",
        "      loss = criterion(outputs, ret)\n",
        "\n",
        "      l1_norm = sum(p.abs().sum() for p in model.parameters())\n",
        "      loss = loss + 0.0001 * l1_norm\n",
        "      loss.backward()\n",
        "\n",
        "      optimizer.step()\n",
        "    \n",
        "    model.eval()\n",
        "    with torch.no_grad():\n",
        "      total_loss = 0.0\n",
        "      for i,(pred, ret) in enumerate(val_loader):\n",
        "        outputs = model(pred)\n",
        "        total_loss = total_loss + torch.sum(torch.square(outputs-ret))\n",
        "\n",
        "      val_MSEs.append(total_loss)\n",
        "      if total_loss < epsilon:\n",
        "        j = 0\n",
        "        epsilon = total_loss\n",
        "        params = model.state_dict()\n",
        "      else:\n",
        "        j = j + 1\n",
        "\n",
        "  #if j <= 5:\n",
        "  #  scheduler.step()"
      ],
      "execution_count": 61,
      "outputs": [
        {
          "output_type": "stream",
          "name": "stderr",
          "text": [
            "/usr/local/lib/python3.7/dist-packages/torch/nn/modules/loss.py:520: UserWarning: Using a target size (torch.Size([64])) that is different to the input size (torch.Size([64, 1])). This will likely lead to incorrect results due to broadcasting. Please ensure they have the same size.\n",
            "  return F.mse_loss(input, target, reduction=self.reduction)\n",
            "/usr/local/lib/python3.7/dist-packages/torch/nn/modules/loss.py:520: UserWarning: Using a target size (torch.Size([40])) that is different to the input size (torch.Size([40, 1])). This will likely lead to incorrect results due to broadcasting. Please ensure they have the same size.\n",
            "  return F.mse_loss(input, target, reduction=self.reduction)\n"
          ]
        }
      ]
    },
    {
      "cell_type": "code",
      "metadata": {
        "id": "rAiFAnpWHR8o",
        "colab": {
          "base_uri": "https://localhost:8080/"
        },
        "outputId": "89ea146c-5d81-462c-a1fb-bb4bceac0ee5"
      },
      "source": [
        "model2 = FeedforwardNeuralNetModel()\n",
        "model2.load_state_dict(params)\n",
        "model2.eval()\n",
        "\n",
        "SS = 0.0\n",
        "SSE = 0.0\n",
        "\n",
        "with torch.no_grad():\n",
        "  for i,(pred,ret) in enumerate(test_loader):\n",
        "    outputs = model2(pred)\n",
        "    SS = SS + torch.sum(torch.square(ret))\n",
        "    SSE = SSE + torch.sum(torch.square(outputs-ret))\n",
        "print(1 - (SSE/SS))\n",
        "print(SSE/df1_test.shape[0])"
      ],
      "execution_count": 62,
      "outputs": [
        {
          "output_type": "stream",
          "name": "stdout",
          "text": [
            "tensor(-30.8481)\n",
            "tensor(0.2773)\n"
          ]
        }
      ]
    },
    {
      "cell_type": "code",
      "metadata": {
        "colab": {
          "base_uri": "https://localhost:8080/",
          "height": 282
        },
        "id": "J3ErfHGdI0e3",
        "outputId": "28d8782b-58fa-419a-d367-2387af4ccd35"
      },
      "source": [
        "plt.plot(np.array(val_MSEs)/df1_val.shape[0])"
      ],
      "execution_count": 63,
      "outputs": [
        {
          "output_type": "execute_result",
          "data": {
            "text/plain": [
              "[<matplotlib.lines.Line2D at 0x7f6ba84153d0>]"
            ]
          },
          "metadata": {},
          "execution_count": 63
        },
        {
          "output_type": "display_data",
          "data": {
            "image/png": "[encoded data removed]",
            "text/plain": [
              "<Figure size 432x288 with 1 Axes>"
            ]
          },
          "metadata": {
            "needs_background": "light"
          }
        }
      ]
    },
    {
      "cell_type": "code",
      "metadata": {
        "id": "XztRrrkdQt97"
      },
      "source": [
        ""
      ],
      "execution_count": 60,
      "outputs": []
    }
  ]
}