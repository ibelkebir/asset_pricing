{
  "nbformat": 4,
  "nbformat_minor": 0,
  "metadata": {
    "colab": {
      "name": "NeuralNet.ipynb",
      "provenance": [],
      "collapsed_sections": []
    },
    "kernelspec": {
      "name": "python3",
      "display_name": "Python 3"
    },
    "language_info": {
      "name": "python"
    }
  },
  "cells": [
    {
      "cell_type": "code",
      "metadata": {
        "id": "VOU8pxhjnrua"
      },
      "source": [
        "from google.colab import drive \n",
        "drive.mount('/content/drive')"
      ],
      "execution_count": null,
      "outputs": []
    },
    {
      "cell_type": "code",
      "metadata": {
        "id": "UjF97G4nnuXV"
      },
      "source": [
        "import numpy as np\n",
        "import pandas as pd\n",
        "import torch\n",
        "import torch.nn as nn\n",
        "import torch.optim as optim"
      ],
      "execution_count": null,
      "outputs": []
    },
    {
      "cell_type": "code",
      "metadata": {
        "id": "dnDIzzr-nyFP"
      },
      "source": [
        "class FeedforwardNeuralNetModel(nn.Module):\n",
        "  def __init__(self):\n",
        "    super(FeedforwardNeuralNetModel, self).__init__()\n",
        "\n",
        "    self.fc1 = nn.Linear(24, 32)\n",
        "    self.relu1 = nn.ReLU()\n",
        "    self.bn1 = nn.BatchNorm1d(32)\n",
        "\n",
        "    self.fc2 = nn.Linear(32, 16)\n",
        "    self.relu2 = nn.ReLU()\n",
        "    self.bn2 = nn.BatchNorm1d(16)\n",
        "\n",
        "    self.fc3 = nn.Linear(16, 8)\n",
        "    self.relu3 = nn.ReLU()\n",
        "    self.bn3 = nn.BatchNorm1d(8)\n",
        "\n",
        "    self.fc4 = nn.Linear(8, 1)  \n",
        "\n",
        "  def forward(self, x):\n",
        "    out = self.fc1(x)\n",
        "    out = self.bn1(out)\n",
        "    out = self.relu1(out)\n",
        "\n",
        "    out = self.fc2(out)\n",
        "    out = self.relu2(out)\n",
        "    out = self.bn2(out)\n",
        "\n",
        "    out = self.fc3(out)\n",
        "    out = self.relu3(out)\n",
        "    out = self.bn3(out)\n",
        "    \n",
        "    out = self.fc4(out)\n",
        "    return out"
      ],
      "execution_count": null,
      "outputs": []
    },
    {
      "cell_type": "code",
      "metadata": {
        "id": "wMs8xxDmny3w"
      },
      "source": [
        "X = pd.read_csv('drive/MyDrive/asset_pricing_data/full_predictor_set_bfill.csv', index_col=0, header=0)"
      ],
      "execution_count": null,
      "outputs": []
    },
    {
      "cell_type": "code",
      "metadata": {
        "id": "AUQ_vzC7n0_8"
      },
      "source": [
        "y = pd.read_csv('drive/MyDrive/asset_pricing_data/returns.csv', index_col=0, header=0)"
      ],
      "execution_count": null,
      "outputs": []
    },
    {
      "cell_type": "code",
      "metadata": {
        "id": "9Kq1M0U3n2sR"
      },
      "source": [
        "model = FeedforwardNeuralNetModel()\n",
        "criterion = nn.MSELoss()\n",
        "optimizer = torch.optim.Adam(model.parameters(), lr=0.00001)\n",
        "scheduler = torch.optim.lr_scheduler.ReduceLROnPlateau(optimizer, patience=5)"
      ],
      "execution_count": null,
      "outputs": []
    },
    {
      "cell_type": "code",
      "metadata": {
        "id": "lm60fd6Mn4vE"
      },
      "source": [
        "df1_train = X[X[\"level_1\"] < 200000].iloc[:,2:].fillna(method=\"ffill\",axis=1).fillna(0)\n",
        "df1_test = X[X[\"level_1\"] >= 200000].iloc[:,2:].fillna(method=\"ffill\",axis=1).fillna(0)\n",
        "df2_train = y[y[\"level_1\"] < 200000].iloc[:,2]\n",
        "df2_test = y[y[\"level_1\"] >= 200000].iloc[:,2]\n",
        "\n",
        "tx_train = torch.tensor(df1_train.values.astype(np.float32))\n",
        "tx_test = torch.tensor(df1_test.values.astype(np.float32))\n",
        "ty_train = torch.tensor(df2_train.values.astype(np.float32))\n",
        "ty_test = df2_test.to_numpy()\n",
        "\n",
        "train_tensor = torch.utils.data.TensorDataset(tx_train, ty_train)\n",
        "train_loader = torch.utils.data.DataLoader(dataset = train_tensor, batch_size = 32, shuffle = True)"
      ],
      "execution_count": null,
      "outputs": []
    },
    {
      "cell_type": "code",
      "metadata": {
        "id": "SGqHiABOn60Z"
      },
      "source": [
        "device = torch.device(\"cuda:0\" if torch.cuda.is_available() else \"cpu\")\n",
        "print(device)"
      ],
      "execution_count": null,
      "outputs": []
    },
    {
      "cell_type": "code",
      "metadata": {
        "id": "KCyaT170n9Q0"
      },
      "source": [
        "model.to(device)"
      ],
      "execution_count": null,
      "outputs": []
    },
    {
      "cell_type": "code",
      "metadata": {
        "id": "EdEyNXonoJ3k"
      },
      "source": [
        "j = 0\n",
        "epsilon = np.inf\n",
        "params = None\n",
        "for epoch in range(10):\n",
        "\n",
        "  for i,(pred, ret) in enumerate(train_loader):\n",
        "    if j <= 5:\n",
        "      optimizer.zero_grad()\n",
        "\n",
        "      pred = pred.to(device)\n",
        "      ret = ret.to(device)\n",
        "\n",
        "      outputs = model(pred)\n",
        "\n",
        "      loss = criterion(outputs, ret)\n",
        "\n",
        "      l1_norm = sum(p.abs().sum() for p in model.parameters())\n",
        "      loss = (loss + 0.000001 * l1_norm)\n",
        "      loss.backward()\n",
        "\n",
        "      optimizer.step()\n",
        "      iter += 1\n",
        "      \n",
        "  if loss < epsilon:\n",
        "    j = 0\n",
        "    epsilon = loss\n",
        "    params = model.state_dict()\n",
        "  else:\n",
        "    j = j + 1\n",
        "\n",
        "  if j <= 5:\n",
        "    scheduler.step(loss)"
      ],
      "execution_count": null,
      "outputs": []
    }
  ]
}