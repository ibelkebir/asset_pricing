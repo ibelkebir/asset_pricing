{
 "cells": [
  {
   "cell_type": "code",
   "execution_count": null,
   "metadata": {},
   "outputs": [],
   "source": [
    "import numpy as np\n",
    "import pandas as pd\n",
    "from matplotlib import pyplot as plt\n",
    "import sklearn\n",
    "from sklearn.linear_model import LinearRegression, Ridge, ElasticNet\n",
    "from sklearn.model_selection import train_test_split\n",
    "from sklearn.metrics import mean_squared_error, r2_score\n",
    "from datetime import datetime\n",
    "import glob"
   ]
  },
  {
   "cell_type": "markdown",
   "metadata": {},
   "source": [
    "# Reading in data"
   ]
  },
  {
   "cell_type": "code",
   "execution_count": null,
   "metadata": {},
   "outputs": [],
   "source": [
    "y = pd.read_excel('data/Returns/Ret_Var.xlsx', index_col=0)"
   ]
  },
  {
   "cell_type": "code",
   "execution_count": null,
   "metadata": {},
   "outputs": [],
   "source": [
    "names = []\n",
    "predictors = []"
   ]
  },
  {
   "cell_type": "code",
   "execution_count": null,
   "metadata": {},
   "outputs": [],
   "source": [
    "files = glob.glob(\"data/HighTurnover/*.xlsx\")\n",
    "for file in files:\n",
    "    predictors.append(pd.read_excel(file, index_col=0))\n",
    "    names.append(file.rsplit('/')[-1].rsplit('.')[0])"
   ]
  },
  {
   "cell_type": "code",
   "execution_count": null,
   "metadata": {},
   "outputs": [],
   "source": [
    "files = glob.glob(\"data/MidTurnover/*.xlsx\")\n",
    "for file in files:\n",
    "    predictors.append(pd.read_excel(file, index_col=0))\n",
    "    names.append(file.rsplit('/')[-1].rsplit('.')[0])"
   ]
  },
  {
   "cell_type": "code",
   "execution_count": null,
   "metadata": {},
   "outputs": [],
   "source": [
    "files = glob.glob(\"data/LowTurnover/*.xlsx\")\n",
    "for file in files:\n",
    "    predictors.append(pd.read_excel(file, index_col=0))\n",
    "    names.append(file.rsplit('/')[-1].rsplit('.')[0])"
   ]
  },
  {
   "cell_type": "code",
   "execution_count": null,
   "metadata": {},
   "outputs": [],
   "source": [
    "files = glob.glob(\"data/ChenCRSP/*.xlsx\")\n",
    "for file in files:\n",
    "    predictors.append(pd.read_excel(file, index_col=0))\n",
    "    names.append(file.rsplit('/')[-1].rsplit('.')[0])"
   ]
  },
  {
   "cell_type": "code",
   "execution_count": null,
   "metadata": {},
   "outputs": [],
   "source": [
    "files = glob.glob(\"data/GHZ/*.xlsx\")\n",
    "for file in files:\n",
    "    predictors.append(pd.read_excel(file, index_col=0))\n",
    "    names.append(file.rsplit('/')[-1].rsplit('.')[0])"
   ]
  },
  {
   "cell_type": "markdown",
   "metadata": {},
   "source": [
    "# Cleaning and preparing"
   ]
  },
  {
   "cell_type": "code",
   "execution_count": null,
   "metadata": {},
   "outputs": [],
   "source": [
    "predictors_stacked_bfill = []\n",
    "for i in range(len(predictors)):\n",
    "    df_filled = predictors[i].fillna(method='ffill', axis=1)\n",
    "    df_filled = df_filled.fillna(0)\n",
    "    df_filled[pd.isna(y)] = np.NaN\n",
    "    df_stack = df_filled.stack().dropna()\n",
    "    df_stack.name = names[i]\n",
    "    df_stack = df_stack.reset_index()\n",
    "    predictors_stacked_bfill.append(df_stack)"
   ]
  },
  {
   "cell_type": "code",
   "execution_count": null,
   "metadata": {},
   "outputs": [],
   "source": [
    "res_bfill = predictors_stacked_bfill[0]\n",
    "for i in range(1,len(predictors)):\n",
    "    predictors_stacked_bfill[i].rename(columns={predictors_stacked_bfill[i].columns[0]: \"Permno\"}, inplace=True)\n",
    "    res_bfill = pd.merge(res_bfill, predictors_stacked_bfill[i], how=\"left\", left_on=[\"Permno\", \"level_1\"], right_on=[\"Permno\", \"level_1\"])\n",
    "res_bfill.iloc[:,2:] = res_bfill.iloc[:,2:].fillna(method='ffill', axis=1)\n",
    "res_bfill.iloc[:,2:] = res_bfill.iloc[:,2:].T.fillna(res_bfill.iloc[:,2:].median(axis=1)).T\n",
    "    "
   ]
  },
  {
   "cell_type": "code",
   "execution_count": null,
   "metadata": {},
   "outputs": [],
   "source": [
    "res_bfill.shape"
   ]
  },
  {
   "cell_type": "code",
   "execution_count": null,
   "metadata": {},
   "outputs": [],
   "source": [
    "res_bfill.to_csv(\"full_predictor_set_bfill.csv\")"
   ]
  },
  {
   "cell_type": "code",
   "execution_count": null,
   "metadata": {},
   "outputs": [],
   "source": [
    "y_stack = y.stack().dropna()\n",
    "y_stack.name = \"return\"\n",
    "y_stack = y_stack.reset_index()\n",
    "y_stack.head()"
   ]
  },
  {
   "cell_type": "code",
   "execution_count": null,
   "metadata": {},
   "outputs": [],
   "source": [
    "y_stack.to_csv(\"returns.csv\")"
   ]
  },
  {
   "cell_type": "markdown",
   "metadata": {},
   "source": [
    "# Fitting Models"
   ]
  },
  {
   "cell_type": "code",
   "execution_count": null,
   "metadata": {},
   "outputs": [],
   "source": [
    "X = pd.read_csv(\"full_predictor_set_bfill.csv\", index_col=0)\n",
    "y = pd.read_csv(\"returns.csv\", index_col=0)"
   ]
  },
  {
   "cell_type": "code",
   "execution_count": null,
   "metadata": {},
   "outputs": [],
   "source": [
    "MSEs_ols, MSEs_ridge, MSEs_elastic = ([], [], [])\n",
    "R2s_ols, R2s_ridge, R2s_elastic = ([], [], [])\n",
    "i = 200000\n",
    "while i + 1000 < 201900:\n",
    "    x_train = X[(X[\"level_1\"] >= i) & (X[\"level_1\"] < i + 1000)].to_numpy()[:,2:]\n",
    "    y_train = y[(y[\"level_1\"] >= i) & (y[\"level_1\"] < i + 1000)].to_numpy()[:,2:]\n",
    "    x_test = X[(X[\"level_1\"] >= i + 1000) & (X[\"level_1\"] < i + 1100)].to_numpy()[:,2:]\n",
    "    y_test = y[(y[\"level_1\"] >= i + 1000) & (y[\"level_1\"] < i + 1100)].to_numpy()[:,2:]\n",
    "    \n",
    "    # OLS\n",
    "    reg = LinearRegression().fit(x_train, y_train)\n",
    "    MSEs_ols.append(mean_squared_error(y_test, reg.predict(x_test)))\n",
    "    R2s_ols.append(1-(np.sum((reg.predict(x_test)-y_test)**2)/np.sum(y_test**2)))\n",
    "    \n",
    "    i = i + 100\n",
    "    \n",
    "    # Ridge\n",
    "    reg = Ridge().fit(x_train, y_train)\n",
    "    MSEs_ridge.append(mean_squared_error(y_test, reg.predict(x_test)))\n",
    "    R2s_ridge.append(1-(np.sum((reg.predict(x_test)-y_test)**2)/np.sum(y_test**2)))\n",
    "    \n",
    "    # Elastic Net\n",
    "    reg = ElasticNet().fit(x_train, y_train)\n",
    "    MSEs_elastic.append(mean_squared_error(y_test, reg.predict(x_test)))\n",
    "    #R2s_elastic.append(1-(np.sum((reg.predict(x_test)-y_test)**2)/np.sum(y_test**2)))"
   ]
  },
  {
   "cell_type": "code",
   "execution_count": null,
   "metadata": {},
   "outputs": [],
   "source": [
    "np.savetxt(\"MSEs_ols.csv\", np.array(MSEs_ols), delimiter=\",\")\n",
    "np.savetxt(\"MSEs_ridge.csv\", np.array(MSEs_ridge), delimiter=\",\")\n",
    "np.savetxt(\"MSEs_elastic.csv\", np.array(MSEs_elastic), delimiter=\",\")\n",
    "np.savetxt(\"R2s_ols.csv\", np.array(R2s_ols), delimiter=\",\")\n",
    "np.savetxt(\"R2s_ridge.csv\", np.array(R2s_ridge), delimiter=\",\")\n",
    "np.savetxt(\"R2s_elastic.csv\", np.array(R2s_elastic), delimiter=\",\")"
   ]
  },
  {
   "cell_type": "code",
   "execution_count": null,
   "metadata": {},
   "outputs": [],
   "source": [
    "plt.subplot(2,1,1)\n",
    "plt.plot(MSEs_ols)\n",
    "plt.title(\"MSEs\")\n",
    "\n",
    "plt.subplot(2,1,2)\n",
    "plt.plot(R2s_ols)\n",
    "plt.title(\"R2s\")\n",
    "\n",
    "plt.tight_layout()"
   ]
  },
  {
   "cell_type": "code",
   "execution_count": null,
   "metadata": {},
   "outputs": [],
   "source": [
    "print(np.mean(MSEs_ols))\n",
    "print(np.mean(R2s_ols))"
   ]
  },
  {
   "cell_type": "markdown",
   "metadata": {},
   "source": [
    "Last MSE and R^2 value with mean filling\n",
    "0.021918890935935076\n",
    "-0.010627932052457923"
   ]
  },
  {
   "cell_type": "code",
   "execution_count": null,
   "metadata": {},
   "outputs": [],
   "source": []
  }
 ],
 "metadata": {
  "interpreter": {
   "hash": "344443636c3027c5042750c9c609acdda283a9c43681b128a8c1053e7ad2aa7d"
  },
  "kernelspec": {
   "display_name": "Python 3",
   "language": "python",
   "name": "python3"
  },
  "language_info": {
   "codemirror_mode": {
    "name": "ipython",
    "version": 3
   },
   "file_extension": ".py",
   "mimetype": "text/x-python",
   "name": "python",
   "nbconvert_exporter": "python",
   "pygments_lexer": "ipython3",
   "version": "3.8.3"
  }
 },
 "nbformat": 4,
 "nbformat_minor": 4
}
