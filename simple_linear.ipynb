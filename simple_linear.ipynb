{
 "cells": [
  {
   "cell_type": "code",
   "execution_count": 1,
   "metadata": {},
   "outputs": [],
   "source": [
    "import numpy as np\n",
    "import pandas as pd\n",
    "import sklearn\n",
    "from sklearn.linear_model import LinearRegression\n",
    "from sklearn.model_selection import train_test_split\n",
    "from sklearn.metrics import mean_squared_error, r2_score"
   ]
  },
  {
   "cell_type": "code",
   "execution_count": 82,
   "metadata": {},
   "outputs": [],
   "source": [
    "df_HFC = pd.read_excel('data/HighTurnover/HFC.xlsx', index_col=0)\n",
    "y = pd.read_excel('data/Returns/Ret_Var.xlsx', index_col=0)"
   ]
  },
  {
   "cell_type": "code",
   "execution_count": 3,
   "metadata": {},
   "outputs": [],
   "source": [
    "df_ind_mom = pd.read_excel('data/HighTurnover/Ind_Mom.xlsx', index_col=0)"
   ]
  },
  {
   "cell_type": "code",
   "execution_count": 4,
   "metadata": {},
   "outputs": [],
   "source": [
    "df_irr = pd.read_excel('data/HighTurnover/IRR.xlsx', index_col=0)"
   ]
  },
  {
   "cell_type": "code",
   "execution_count": 83,
   "metadata": {},
   "outputs": [],
   "source": [
    "predictors = [df_HFC, df_ind_mom, df_irr]\n",
    "names=[\"HFC\",\"ind_mom\",\"irr\"]"
   ]
  },
  {
   "cell_type": "code",
   "execution_count": 123,
   "metadata": {},
   "outputs": [],
   "source": [
    "predictors_stacked = []\n",
    "for i in range(len(predictors)):\n",
    "    df_filled = predictors[i].fillna(predictors[i].median(axis=0))\n",
    "    df_filled[pd.isna(y)] = np.NaN\n",
    "    df_stack = df_filled.stack().dropna()\n",
    "    df_stack.name = names[i]\n",
    "    df_stack = df_stack.reset_index()\n",
    "    predictors_stacked.append(df_stack)"
   ]
  },
  {
   "cell_type": "code",
   "execution_count": 124,
   "metadata": {},
   "outputs": [
    {
     "data": {
      "text/plain": [
       "(2187349, 3)"
      ]
     },
     "execution_count": 124,
     "metadata": {},
     "output_type": "execute_result"
    }
   ],
   "source": [
    "predictors_stacked[0].shape"
   ]
  },
  {
   "cell_type": "code",
   "execution_count": 125,
   "metadata": {},
   "outputs": [],
   "source": [
    "res = predictors_stacked[0]\n",
    "for i in range(1,len(predictors)):\n",
    "    res = pd.merge(res, predictors_stacked[i], how=\"left\", left_on=[\"Permno\", \"level_1\"], right_on=[\"Permno\", \"level_1\"])"
   ]
  },
  {
   "cell_type": "code",
   "execution_count": 126,
   "metadata": {},
   "outputs": [
    {
     "data": {
      "text/html": [
       "<div>\n",
       "<style scoped>\n",
       "    .dataframe tbody tr th:only-of-type {\n",
       "        vertical-align: middle;\n",
       "    }\n",
       "\n",
       "    .dataframe tbody tr th {\n",
       "        vertical-align: top;\n",
       "    }\n",
       "\n",
       "    .dataframe thead th {\n",
       "        text-align: right;\n",
       "    }\n",
       "</style>\n",
       "<table border=\"1\" class=\"dataframe\">\n",
       "  <thead>\n",
       "    <tr style=\"text-align: right;\">\n",
       "      <th></th>\n",
       "      <th>Permno</th>\n",
       "      <th>level_1</th>\n",
       "      <th>HFC</th>\n",
       "      <th>ind_mom</th>\n",
       "      <th>irr</th>\n",
       "    </tr>\n",
       "  </thead>\n",
       "  <tbody>\n",
       "    <tr>\n",
       "      <th>0</th>\n",
       "      <td>10001</td>\n",
       "      <td>198601</td>\n",
       "      <td>50.013924</td>\n",
       "      <td>7.0</td>\n",
       "      <td>50.013924</td>\n",
       "    </tr>\n",
       "    <tr>\n",
       "      <th>1</th>\n",
       "      <td>10001</td>\n",
       "      <td>198602</td>\n",
       "      <td>72.123043</td>\n",
       "      <td>8.0</td>\n",
       "      <td>29.991761</td>\n",
       "    </tr>\n",
       "    <tr>\n",
       "      <th>2</th>\n",
       "      <td>10001</td>\n",
       "      <td>198603</td>\n",
       "      <td>60.641479</td>\n",
       "      <td>3.0</td>\n",
       "      <td>37.292743</td>\n",
       "    </tr>\n",
       "    <tr>\n",
       "      <th>3</th>\n",
       "      <td>10001</td>\n",
       "      <td>198604</td>\n",
       "      <td>49.358632</td>\n",
       "      <td>3.0</td>\n",
       "      <td>48.717263</td>\n",
       "    </tr>\n",
       "    <tr>\n",
       "      <th>4</th>\n",
       "      <td>10001</td>\n",
       "      <td>198605</td>\n",
       "      <td>29.925651</td>\n",
       "      <td>2.0</td>\n",
       "      <td>66.861391</td>\n",
       "    </tr>\n",
       "  </tbody>\n",
       "</table>\n",
       "</div>"
      ],
      "text/plain": [
       "   Permno  level_1        HFC  ind_mom        irr\n",
       "0   10001   198601  50.013924      7.0  50.013924\n",
       "1   10001   198602  72.123043      8.0  29.991761\n",
       "2   10001   198603  60.641479      3.0  37.292743\n",
       "3   10001   198604  49.358632      3.0  48.717263\n",
       "4   10001   198605  29.925651      2.0  66.861391"
      ]
     },
     "execution_count": 126,
     "metadata": {},
     "output_type": "execute_result"
    }
   ],
   "source": [
    "res.head()"
   ]
  },
  {
   "cell_type": "code",
   "execution_count": 127,
   "metadata": {},
   "outputs": [
    {
     "data": {
      "text/html": [
       "<div>\n",
       "<style scoped>\n",
       "    .dataframe tbody tr th:only-of-type {\n",
       "        vertical-align: middle;\n",
       "    }\n",
       "\n",
       "    .dataframe tbody tr th {\n",
       "        vertical-align: top;\n",
       "    }\n",
       "\n",
       "    .dataframe thead th {\n",
       "        text-align: right;\n",
       "    }\n",
       "</style>\n",
       "<table border=\"1\" class=\"dataframe\">\n",
       "  <thead>\n",
       "    <tr style=\"text-align: right;\">\n",
       "      <th></th>\n",
       "      <th>Permno</th>\n",
       "      <th>level_1</th>\n",
       "      <th>return</th>\n",
       "    </tr>\n",
       "  </thead>\n",
       "  <tbody>\n",
       "    <tr>\n",
       "      <th>0</th>\n",
       "      <td>10001</td>\n",
       "      <td>198601</td>\n",
       "      <td>0.000000</td>\n",
       "    </tr>\n",
       "    <tr>\n",
       "      <th>1</th>\n",
       "      <td>10001</td>\n",
       "      <td>198602</td>\n",
       "      <td>0.020408</td>\n",
       "    </tr>\n",
       "    <tr>\n",
       "      <th>2</th>\n",
       "      <td>10001</td>\n",
       "      <td>198603</td>\n",
       "      <td>0.025200</td>\n",
       "    </tr>\n",
       "    <tr>\n",
       "      <th>3</th>\n",
       "      <td>10001</td>\n",
       "      <td>198604</td>\n",
       "      <td>0.009901</td>\n",
       "    </tr>\n",
       "    <tr>\n",
       "      <th>4</th>\n",
       "      <td>10001</td>\n",
       "      <td>198605</td>\n",
       "      <td>-0.009804</td>\n",
       "    </tr>\n",
       "  </tbody>\n",
       "</table>\n",
       "</div>"
      ],
      "text/plain": [
       "   Permno  level_1    return\n",
       "0   10001   198601  0.000000\n",
       "1   10001   198602  0.020408\n",
       "2   10001   198603  0.025200\n",
       "3   10001   198604  0.009901\n",
       "4   10001   198605 -0.009804"
      ]
     },
     "execution_count": 127,
     "metadata": {},
     "output_type": "execute_result"
    }
   ],
   "source": [
    "y_stack = y.stack().dropna()\n",
    "y_stack.name = \"return\"\n",
    "y_stack = y_stack.reset_index()\n",
    "y_stack.head()"
   ]
  },
  {
   "cell_type": "code",
   "execution_count": 128,
   "metadata": {},
   "outputs": [
    {
     "name": "stdout",
     "output_type": "stream",
     "text": [
      "(2187349, 5)\n",
      "(2187349, 3)\n"
     ]
    }
   ],
   "source": [
    "print(res.shape)\n",
    "print(y_stack.shape)"
   ]
  },
  {
   "cell_type": "code",
   "execution_count": 129,
   "metadata": {},
   "outputs": [
    {
     "name": "stdout",
     "output_type": "stream",
     "text": [
      "(1457474, 3)\n",
      "(1457474, 1)\n",
      "(729875, 3)\n",
      "(729875, 1)\n"
     ]
    }
   ],
   "source": [
    "x_train, x_test = np.split(res.to_numpy()[:,2:], [1457474])\n",
    "y_train, y_test = np.split(y_stack.to_numpy()[:,2:], [1457474])\n",
    "print(x_train.shape)\n",
    "print(y_train.shape)\n",
    "print(x_test.shape)\n",
    "print(y_test.shape)"
   ]
  },
  {
   "cell_type": "code",
   "execution_count": 130,
   "metadata": {},
   "outputs": [
    {
     "name": "stdout",
     "output_type": "stream",
     "text": [
      "0.02784050323449214\n",
      "0.0009060372235681902\n"
     ]
    }
   ],
   "source": [
    "reg = LinearRegression().fit(x_train, y_train)\n",
    "print(mean_squared_error(y_test, reg.predict(x_test)))\n",
    "print(r2_score(y_test, reg.predict(x_test)))"
   ]
  },
  {
   "cell_type": "code",
   "execution_count": null,
   "metadata": {},
   "outputs": [],
   "source": []
  }
 ],
 "metadata": {
  "kernelspec": {
   "display_name": "Python 3",
   "language": "python",
   "name": "python3"
  },
  "language_info": {
   "codemirror_mode": {
    "name": "ipython",
    "version": 3
   },
   "file_extension": ".py",
   "mimetype": "text/x-python",
   "name": "python",
   "nbconvert_exporter": "python",
   "pygments_lexer": "ipython3",
   "version": "3.8.3"
  }
 },
 "nbformat": 4,
 "nbformat_minor": 4
}
