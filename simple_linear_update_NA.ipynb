{
 "cells": [
  {
   "cell_type": "code",
   "execution_count": 1,
   "metadata": {},
   "outputs": [],
   "source": [
    "import numpy as np\n",
    "import pandas as pd\n",
    "from matplotlib import pyplot as plt\n",
    "import sklearn\n",
    "from sklearn.linear_model import LinearRegression, Ridge, ElasticNet\n",
    "from sklearn.model_selection import train_test_split\n",
    "from sklearn.metrics import mean_squared_error, r2_score\n",
    "from datetime import datetime\n",
    "import glob"
   ]
  },
  {
   "cell_type": "markdown",
   "metadata": {},
   "source": [
    "# Reading in data"
   ]
  },
  {
   "cell_type": "code",
   "execution_count": 2,
   "metadata": {},
   "outputs": [],
   "source": [
    "y = pd.read_excel('data/Returns/Ret_Var.xlsx', index_col=0)"
   ]
  },
  {
   "cell_type": "code",
   "execution_count": 3,
   "metadata": {},
   "outputs": [],
   "source": [
    "names = []\n",
    "predictors = []"
   ]
  },
  {
   "cell_type": "code",
   "execution_count": 4,
   "metadata": {},
   "outputs": [],
   "source": [
    "files = glob.glob(\"data/HighTurnover/*.xlsx\")\n",
    "for file in files:\n",
    "    predictors.append(pd.read_excel(file, index_col=0))\n",
    "    names.append(file.rsplit('/')[-1].rsplit('.')[0])"
   ]
  },
  {
   "cell_type": "code",
   "execution_count": 5,
   "metadata": {},
   "outputs": [],
   "source": [
    "files = glob.glob(\"data/MidTurnover/*.xlsx\")\n",
    "for file in files:\n",
    "    predictors.append(pd.read_excel(file, index_col=0))\n",
    "    names.append(file.rsplit('/')[-1].rsplit('.')[0])"
   ]
  },
  {
   "cell_type": "code",
   "execution_count": 7,
   "metadata": {},
   "outputs": [],
   "source": [
    "files = glob.glob(\"data/LowTurnover/*.xlsx\")\n",
    "for file in files:\n",
    "    predictors.append(pd.read_excel(file, index_col=0))\n",
    "    names.append(file.rsplit('/')[-1].rsplit('.')[0])"
   ]
  },
  {
   "cell_type": "markdown",
   "metadata": {},
   "source": [
    "# Cleaning and preparing"
   ]
  },
  {
   "cell_type": "code",
   "execution_count": 9,
   "metadata": {},
   "outputs": [],
   "source": [
    "predictors_stacked_bfill = []\n",
    "for i in range(len(predictors)):\n",
    "    df_filled = predictors[i].fillna(method='bfill')\n",
    "    df_filled = df_filled.fillna(0)\n",
    "    df_filled[pd.isna(y)] = np.NaN\n",
    "    df_stack = df_filled.stack().dropna()\n",
    "    df_stack.name = names[i]\n",
    "    df_stack = df_stack.reset_index()\n",
    "    predictors_stacked_bfill.append(df_stack)"
   ]
  },
  {
   "cell_type": "code",
   "execution_count": 10,
   "metadata": {},
   "outputs": [],
   "source": [
    "predictors_stacked_mfill = []\n",
    "for i in range(len(predictors)):\n",
    "    df_filled = predictors[i].fillna(predictors[i].median(axis=0))\n",
    "    df_filled[pd.isna(y)] = np.NaN\n",
    "    df_stack = df_filled.stack().dropna()\n",
    "    df_stack.name = names[i]\n",
    "    df_stack = df_stack.reset_index()\n",
    "    predictors_stacked_mfill.append(df_stack)"
   ]
  },
  {
   "cell_type": "code",
   "execution_count": 14,
   "metadata": {},
   "outputs": [
    {
     "data": {
      "text/html": [
       "<div>\n",
       "<style scoped>\n",
       "    .dataframe tbody tr th:only-of-type {\n",
       "        vertical-align: middle;\n",
       "    }\n",
       "\n",
       "    .dataframe tbody tr th {\n",
       "        vertical-align: top;\n",
       "    }\n",
       "\n",
       "    .dataframe thead th {\n",
       "        text-align: right;\n",
       "    }\n",
       "</style>\n",
       "<table border=\"1\" class=\"dataframe\">\n",
       "  <thead>\n",
       "    <tr style=\"text-align: right;\">\n",
       "      <th></th>\n",
       "      <th>Permno</th>\n",
       "      <th>level_1</th>\n",
       "      <th>SRR</th>\n",
       "      <th>Ind_Mom</th>\n",
       "      <th>IRR</th>\n",
       "      <th>HFC</th>\n",
       "      <th>IRR_LowVol</th>\n",
       "      <th>Season</th>\n",
       "      <th>Ivol</th>\n",
       "      <th>ROE</th>\n",
       "    </tr>\n",
       "  </thead>\n",
       "  <tbody>\n",
       "    <tr>\n",
       "      <th>0</th>\n",
       "      <td>10001</td>\n",
       "      <td>198601</td>\n",
       "      <td>63.287293</td>\n",
       "      <td>5.0</td>\n",
       "      <td>67.474241</td>\n",
       "      <td>31.829574</td>\n",
       "      <td>40.082645</td>\n",
       "      <td>95.324074</td>\n",
       "      <td>68.651489</td>\n",
       "      <td>98.185625</td>\n",
       "    </tr>\n",
       "    <tr>\n",
       "      <th>1</th>\n",
       "      <td>10001</td>\n",
       "      <td>198602</td>\n",
       "      <td>41.019351</td>\n",
       "      <td>8.0</td>\n",
       "      <td>29.991761</td>\n",
       "      <td>72.123043</td>\n",
       "      <td>28.257329</td>\n",
       "      <td>20.418605</td>\n",
       "      <td>40.401146</td>\n",
       "      <td>96.964410</td>\n",
       "    </tr>\n",
       "    <tr>\n",
       "      <th>2</th>\n",
       "      <td>10001</td>\n",
       "      <td>198603</td>\n",
       "      <td>31.118314</td>\n",
       "      <td>3.0</td>\n",
       "      <td>37.292743</td>\n",
       "      <td>60.641479</td>\n",
       "      <td>32.786885</td>\n",
       "      <td>6.397775</td>\n",
       "      <td>11.906792</td>\n",
       "      <td>97.028334</td>\n",
       "    </tr>\n",
       "    <tr>\n",
       "      <th>3</th>\n",
       "      <td>10001</td>\n",
       "      <td>198604</td>\n",
       "      <td>43.259771</td>\n",
       "      <td>3.0</td>\n",
       "      <td>48.717263</td>\n",
       "      <td>49.358632</td>\n",
       "      <td>48.072384</td>\n",
       "      <td>47.085819</td>\n",
       "      <td>5.141894</td>\n",
       "      <td>74.185807</td>\n",
       "    </tr>\n",
       "    <tr>\n",
       "      <th>4</th>\n",
       "      <td>10001</td>\n",
       "      <td>198605</td>\n",
       "      <td>52.233677</td>\n",
       "      <td>2.0</td>\n",
       "      <td>66.861391</td>\n",
       "      <td>29.925651</td>\n",
       "      <td>73.369565</td>\n",
       "      <td>31.218157</td>\n",
       "      <td>1.140156</td>\n",
       "      <td>71.612466</td>\n",
       "    </tr>\n",
       "  </tbody>\n",
       "</table>\n",
       "</div>"
      ],
      "text/plain": [
       "   Permno  level_1        SRR  Ind_Mom        IRR        HFC  IRR_LowVol  \\\n",
       "0   10001   198601  63.287293      5.0  67.474241  31.829574   40.082645   \n",
       "1   10001   198602  41.019351      8.0  29.991761  72.123043   28.257329   \n",
       "2   10001   198603  31.118314      3.0  37.292743  60.641479   32.786885   \n",
       "3   10001   198604  43.259771      3.0  48.717263  49.358632   48.072384   \n",
       "4   10001   198605  52.233677      2.0  66.861391  29.925651   73.369565   \n",
       "\n",
       "      Season       Ivol        ROE  \n",
       "0  95.324074  68.651489  98.185625  \n",
       "1  20.418605  40.401146  96.964410  \n",
       "2   6.397775  11.906792  97.028334  \n",
       "3  47.085819   5.141894  74.185807  \n",
       "4  31.218157   1.140156  71.612466  "
      ]
     },
     "execution_count": 14,
     "metadata": {},
     "output_type": "execute_result"
    }
   ],
   "source": [
    "res_bfill.head()"
   ]
  },
  {
   "cell_type": "code",
   "execution_count": 21,
   "metadata": {},
   "outputs": [],
   "source": [
    "res_bfill = predictors_stacked_bfill[0]\n",
    "for i in range(1,len(predictors)):\n",
    "    predictors_stacked_bfill[i].rename(columns={predictors_stacked_bfill[i].columns[0]: \"Permno\"}, inplace=True)\n",
    "    res_bfill = pd.merge(res_bfill, predictors_stacked_bfill[i], how=\"left\", left_on=[\"Permno\", \"level_1\"], right_on=[\"Permno\", \"level_1\"])\n",
    "    "
   ]
  },
  {
   "cell_type": "code",
   "execution_count": 23,
   "metadata": {},
   "outputs": [
    {
     "data": {
      "text/plain": [
       "(2187349, 26)"
      ]
     },
     "execution_count": 23,
     "metadata": {},
     "output_type": "execute_result"
    }
   ],
   "source": [
    "res_bfill.shape"
   ]
  },
  {
   "cell_type": "code",
   "execution_count": 22,
   "metadata": {},
   "outputs": [],
   "source": [
    "res_mfill = predictors_stacked_mfill[0]\n",
    "for i in range(1,len(predictors)):\n",
    "    predictors_stacked_mfill[i].rename(columns={predictors_stacked_mfill[i].columns[0]: \"Permno\"}, inplace=True)\n",
    "    res_mfill = pd.merge(res_mfill, predictors_stacked_mfill[i], how=\"left\", left_on=[\"Permno\", \"level_1\"], right_on=[\"Permno\", \"level_1\"])\n",
    "    "
   ]
  },
  {
   "cell_type": "code",
   "execution_count": 24,
   "metadata": {},
   "outputs": [
    {
     "data": {
      "text/plain": [
       "(2187349, 26)"
      ]
     },
     "execution_count": 24,
     "metadata": {},
     "output_type": "execute_result"
    }
   ],
   "source": [
    "res_mfill.shape"
   ]
  },
  {
   "cell_type": "code",
   "execution_count": 25,
   "metadata": {},
   "outputs": [],
   "source": [
    "res_bfill.to_csv(\"full_predictor_set_bfill.csv\")"
   ]
  },
  {
   "cell_type": "code",
   "execution_count": 27,
   "metadata": {},
   "outputs": [],
   "source": [
    "res_mfill.to_csv(\"full_predictor_set_mfill.csv\")"
   ]
  },
  {
   "cell_type": "code",
   "execution_count": 28,
   "metadata": {},
   "outputs": [
    {
     "data": {
      "text/html": [
       "<div>\n",
       "<style scoped>\n",
       "    .dataframe tbody tr th:only-of-type {\n",
       "        vertical-align: middle;\n",
       "    }\n",
       "\n",
       "    .dataframe tbody tr th {\n",
       "        vertical-align: top;\n",
       "    }\n",
       "\n",
       "    .dataframe thead th {\n",
       "        text-align: right;\n",
       "    }\n",
       "</style>\n",
       "<table border=\"1\" class=\"dataframe\">\n",
       "  <thead>\n",
       "    <tr style=\"text-align: right;\">\n",
       "      <th></th>\n",
       "      <th>Permno</th>\n",
       "      <th>level_1</th>\n",
       "      <th>return</th>\n",
       "    </tr>\n",
       "  </thead>\n",
       "  <tbody>\n",
       "    <tr>\n",
       "      <th>0</th>\n",
       "      <td>10001</td>\n",
       "      <td>198601</td>\n",
       "      <td>0.000000</td>\n",
       "    </tr>\n",
       "    <tr>\n",
       "      <th>1</th>\n",
       "      <td>10001</td>\n",
       "      <td>198602</td>\n",
       "      <td>0.020408</td>\n",
       "    </tr>\n",
       "    <tr>\n",
       "      <th>2</th>\n",
       "      <td>10001</td>\n",
       "      <td>198603</td>\n",
       "      <td>0.025200</td>\n",
       "    </tr>\n",
       "    <tr>\n",
       "      <th>3</th>\n",
       "      <td>10001</td>\n",
       "      <td>198604</td>\n",
       "      <td>0.009901</td>\n",
       "    </tr>\n",
       "    <tr>\n",
       "      <th>4</th>\n",
       "      <td>10001</td>\n",
       "      <td>198605</td>\n",
       "      <td>-0.009804</td>\n",
       "    </tr>\n",
       "  </tbody>\n",
       "</table>\n",
       "</div>"
      ],
      "text/plain": [
       "   Permno  level_1    return\n",
       "0   10001   198601  0.000000\n",
       "1   10001   198602  0.020408\n",
       "2   10001   198603  0.025200\n",
       "3   10001   198604  0.009901\n",
       "4   10001   198605 -0.009804"
      ]
     },
     "execution_count": 28,
     "metadata": {},
     "output_type": "execute_result"
    }
   ],
   "source": [
    "y_stack = y.stack().dropna()\n",
    "y_stack.name = \"return\"\n",
    "y_stack = y_stack.reset_index()\n",
    "y_stack.head()"
   ]
  },
  {
   "cell_type": "code",
   "execution_count": 29,
   "metadata": {},
   "outputs": [],
   "source": [
    "y_stack.to_csv(\"returns.csv\")"
   ]
  },
  {
   "cell_type": "markdown",
   "metadata": {},
   "source": [
    "# Fitting Models"
   ]
  },
  {
   "cell_type": "code",
   "execution_count": 40,
   "metadata": {},
   "outputs": [],
   "source": [
    "X = pd.read_csv(\"full_predictor_set_bfill.csv\", index_col=0)\n",
    "y = pd.read_csv(\"returns.csv\", index_col=0)"
   ]
  },
  {
   "cell_type": "code",
   "execution_count": 14,
   "metadata": {},
   "outputs": [],
   "source": [
    "MSEs_ols, MSEs_ridge, MSEs_elastic = ([], [], [])\n",
    "R2s_ols, R2s_ridge, R2s_elastic = ([], [], [])\n",
    "for i in range(198700,201900,100):\n",
    "    x_train = X[X[\"level_1\"] < i].to_numpy()[:,2:]\n",
    "    y_train = y[y[\"level_1\"] < i].to_numpy()[:,2:]\n",
    "    x_test = X[(X[\"level_1\"] >= i) & (X[\"level_1\"] <= i + 100)].to_numpy()[:,2:]\n",
    "    y_test = y[(y[\"level_1\"] >= i) & (y[\"level_1\"] <= i + 100)].to_numpy()[:,2:]\n",
    "    \n",
    "    # OLS\n",
    "    reg = LinearRegression().fit(x_train, y_train)\n",
    "    MSEs_ols.append(mean_squared_error(y_test, reg.predict(x_test)))\n",
    "    R2s_ols.append(r2_score(y_test, reg.predict(x_test)))\n",
    "    \n",
    "    # Ridge\n",
    "    reg = Ridge().fit(x_train, y_train)\n",
    "    MSEs_ridge.append(mean_squared_error(y_test, reg.predict(x_test)))\n",
    "    R2s_ridge.append(r2_score(y_test, reg.predict(x_test)))\n",
    "    \n",
    "    # Elastic Net\n",
    "    reg = ElasticNet().fit(x_train, y_train)\n",
    "    MSEs_elastic.append(mean_squared_error(y_test, reg.predict(x_test)))\n",
    "    R2s_elastic.append(r2_score(y_test, reg.predict(x_test)))"
   ]
  },
  {
   "cell_type": "code",
   "execution_count": null,
   "metadata": {},
   "outputs": [],
   "source": [
    "np.savetext(\"MSEs_ols.csv\", np.array(MSEs_ols), delimiter=\",\")\n",
    "np.savetext(\"MSEs_ridge.csv\", np.array(MSEs_ridge), delimiter=\",\")\n",
    "np.savetext(\"MSEs_elastic.csv\", np.array(MSEs_elastic), delimiter=\",\")\n",
    "np.savetext(\"R2s_ols.csv\", np.array(R2s_ols), delimiter=\",\")\n",
    "np.savetext(\"R2s_ridge.csv\", np.array(R2s_ridge), delimiter=\",\")\n",
    "np.savetext(\"R2s_elastic.csv\", np.array(R2s_elastic), delimiter=\",\")"
   ]
  },
  {
   "cell_type": "code",
   "execution_count": 15,
   "metadata": {},
   "outputs": [
    {
     "data": {
      "image/png": "[encoded data removed]",
      "text/plain": [
       "<Figure size 432x288 with 2 Axes>"
      ]
     },
     "metadata": {
      "needs_background": "light"
     },
     "output_type": "display_data"
    }
   ],
   "source": [
    "plt.subplot(2,1,1)\n",
    "plt.plot(MSEs)\n",
    "plt.title(\"MSEs\")\n",
    "\n",
    "plt.subplot(2,1,2)\n",
    "plt.plot(R2s)\n",
    "plt.title(\"R2s\")\n",
    "\n",
    "plt.tight_layout()"
   ]
  },
  {
   "cell_type": "code",
   "execution_count": 16,
   "metadata": {},
   "outputs": [
    {
     "name": "stdout",
     "output_type": "stream",
     "text": [
      "0.021920594102669135\n",
      "-0.010762392924509857\n"
     ]
    }
   ],
   "source": [
    "print(np.mean(MSEs))\n",
    "print(np.mean(R2s))"
   ]
  },
  {
   "cell_type": "markdown",
   "metadata": {},
   "source": [
    "Last MSE and R^2 value with mean filling\n",
    "0.021918890935935076\n",
    "-0.010627932052457923"
   ]
  },
  {
   "cell_type": "code",
   "execution_count": null,
   "metadata": {},
   "outputs": [],
   "source": []
  }
 ],
 "metadata": {
  "interpreter": {
   "hash": "344443636c3027c5042750c9c609acdda283a9c43681b128a8c1053e7ad2aa7d"
  },
  "kernelspec": {
   "display_name": "Python 3",
   "language": "python",
   "name": "python3"
  },
  "language_info": {
   "codemirror_mode": {
    "name": "ipython",
    "version": 3
   },
   "file_extension": ".py",
   "mimetype": "text/x-python",
   "name": "python",
   "nbconvert_exporter": "python",
   "pygments_lexer": "ipython3",
   "version": "3.8.3"
  }
 },
 "nbformat": 4,
 "nbformat_minor": 4
}
